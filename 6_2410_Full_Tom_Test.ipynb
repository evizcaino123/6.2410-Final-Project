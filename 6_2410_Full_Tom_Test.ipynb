{
  "cells": [
    {
      "cell_type": "code",
      "execution_count": 28,
      "metadata": {
        "id": "CcG9M7pNq2TZ"
      },
      "outputs": [],
      "source": [
        "import numpy as np\n",
        "\n",
        "#running the raw output on quApp with pulse mode\n",
        "#number of 0's = 1662\n",
        "#number of 1's = 646\n",
        "#bias = .720\n",
        "#so we should expect a density matrix of [[.72,.45],[.45,.28]]\n",
        "#settings pulse amplitude = 40mA, pulse duration 10us, frequency 20Hz\n",
        "pulse_outputs = [\n",
        "    [[0.73, 0.224],[0.224, .269]],\n",
        "    [[0.738, 0.151],[0.151, 0.262]],\n",
        "    [[0.815, .225],[0.225, .184]],\n",
        "    [[0.813, 0.125],[0.125, 0.186]],\n",
        "    [[.746, .107],[.107, 0.254]],\n",
        "    [[.625, .379],[.379, .375]],\n",
        "    [[.836, .204],[.204, .164]],\n",
        "    [[0.734, .306],[.306, .266]],\n",
        "    [[0.732, .242],[.242, .268]],\n",
        "    [[.633, .381],[.381, .367]]\n",
        "\n",
        "]\n",
        "\n",
        "#running raw output on quApp with continuous mode\n",
        "#number of 0's = 21277\n",
        "#number of 1's = 8211\n",
        "#bias = .721\n",
        "#lines up with pulse mode so we expect same\n",
        "continuous_outputs = [\n",
        "    [[.694, .212],[.212, .306]],\n",
        "    [[.607, .254],[.254, .392]],\n",
        "    [[.793,.148],[.148,.207]],\n",
        "    [[.730, .176],[.176,.270]],\n",
        "    [[.462,.445],[.445,.538]],\n",
        "    [[.773,.148],[.148,.227]],\n",
        "    [[0.868,.118],[.118,.132]],\n",
        "    [[.873,.104],[.104,.127]],\n",
        "    [[.687,.194],[.194,.312]],\n",
        "    [[.511,.396],[.396,.489]]\n",
        "\n",
        "]"
      ]
    },
    {
      "cell_type": "code",
      "execution_count": 29,
      "metadata": {
        "colab": {
          "base_uri": "https://localhost:8080/"
        },
        "id": "LE9IVnOV2jOX",
        "outputId": "3d365c05-f62e-4e70-ed77-f314a554eb9a"
      },
      "outputs": [
        {
          "name": "stdout",
          "output_type": "stream",
          "text": [
            "Mean |0><0|:0.7402,\n",
            "Variance: 0.004508359999999998\n",
            "\n",
            "Mean |0><1|:0.23440000000000003,\n",
            "Variance: 0.00838604\n",
            "\n",
            "Mean |1><0|:0.23440000000000003,\n",
            "Variance: 0.00838604\n",
            "\n",
            "Mean |1><1|:0.2595,\n",
            "Variance: 0.00453605\n",
            "\n"
          ]
        }
      ],
      "source": [
        "pump_array_00 = []\n",
        "pump_array_01 = []\n",
        "pump_array_10= []\n",
        "pump_array_11 = []\n",
        "\n",
        "for i,j in pulse_outputs:\n",
        "  pump_array_00.append(i[0])\n",
        "  pump_array_01.append(i[1])\n",
        "  pump_array_10.append(j[0])\n",
        "  pump_array_11.append(j[1])\n",
        "\n",
        "dic = {}\n",
        "\n",
        "for k,elt in enumerate(pulse_outputs):\n",
        "  dic[k] = np.array(elt)\n",
        "\n",
        "print(f'Mean |0><0|:{np.mean(pump_array_00)},\\nVariance: {np.var(pump_array_00)}\\n')\n",
        "print(f'Mean |0><1|:{np.mean(pump_array_01)},\\nVariance: {np.var(pump_array_01)}\\n')\n",
        "print(f'Mean |1><0|:{np.mean(pump_array_10)},\\nVariance: {np.var(pump_array_10)}\\n')\n",
        "print(f'Mean |1><1|:{np.mean(pump_array_11)},\\nVariance: {np.var(pump_array_11)}\\n')\n",
        "\n",
        "#print(np.var([dic[i] for i in range(10)]))\n",
        "\n",
        "\n",
        "\n",
        "\n"
      ]
    },
    {
      "cell_type": "code",
      "execution_count": 30,
      "metadata": {
        "colab": {
          "base_uri": "https://localhost:8080/"
        },
        "id": "jWB4cHee5HA7",
        "outputId": "cfcc99fa-fdae-498c-8ee3-bc3ee991b37f"
      },
      "outputs": [
        {
          "name": "stdout",
          "output_type": "stream",
          "text": [
            "Mean |0><0|:0.6998,\n",
            "Variance: 0.01742496\n",
            "\n",
            "Mean |0><1|:0.21949999999999997,\n",
            "Variance: 0.011965850000000004\n",
            "\n",
            "Mean |1><0|:0.21949999999999997,\n",
            "Variance: 0.011965850000000004\n",
            "\n",
            "Mean |1><1|:0.29999999999999993,\n",
            "Variance: 0.017404000000000003\n",
            "\n"
          ]
        }
      ],
      "source": [
        "cont_array_00 = []\n",
        "cont_array_01 = []\n",
        "cont_array_10= []\n",
        "cont_array_11 = []\n",
        "\n",
        "for i,j in continuous_outputs:\n",
        "  cont_array_00.append(i[0])\n",
        "  cont_array_01.append(i[1])\n",
        "  cont_array_10.append(j[0])\n",
        "  cont_array_11.append(j[1])\n",
        "\n",
        "dic = {}\n",
        "\n",
        "for k,elt in enumerate(pulse_outputs):\n",
        "  dic[k] = np.array(elt)\n",
        "\n",
        "print(f'Mean |0><0|:{np.mean(cont_array_00)},\\nVariance: {np.var(cont_array_00)}\\n')\n",
        "print(f'Mean |0><1|:{np.mean(cont_array_01)},\\nVariance: {np.var(cont_array_01)}\\n')\n",
        "print(f'Mean |1><0|:{np.mean(cont_array_10)},\\nVariance: {np.var(cont_array_10)}\\n')\n",
        "print(f'Mean |1><1|:{np.mean(cont_array_11)},\\nVariance: {np.var(cont_array_11)}\\n')"
      ]
    },
    {
      "cell_type": "code",
      "execution_count": 31,
      "metadata": {
        "colab": {
          "base_uri": "https://localhost:8080/",
          "height": 453
        },
        "id": "PN_UbljRsBmT",
        "outputId": "5d56d144-2483-43bf-fa6c-e47e67535b5c"
      },
      "outputs": [
        {
          "data": {
            "text/plain": [
              "<matplotlib.image.AxesImage at 0x7ae337daec80>"
            ]
          },
          "execution_count": 31,
          "metadata": {},
          "output_type": "execute_result"
        },
        {
          "data": {
            "image/png": "[encoded data removed]",
            "text/plain": [
              "<Figure size 640x480 with 1 Axes>"
            ]
          },
          "metadata": {},
          "output_type": "display_data"
        }
      ],
      "source": [
        "from matplotlib import pyplot as plt\n",
        "out1 = np.array([[np.mean(pump_array_00), np.mean(pump_array_01)],[np.mean(pump_array_10), np.mean(pump_array_11)]])\n",
        "out2 = np.array([[np.mean(cont_array_00), np.mean(cont_array_01)],[np.mean(cont_array_10), np.mean(cont_array_11)]])\n",
        "\n",
        "plt.imshow(out1)\n"
      ]
    },
    {
      "cell_type": "markdown",
      "metadata": {
        "id": "PJk1onwZKnlN"
      },
      "source": [
        "**Classical Shadow Data**"
      ]
    },
    {
      "cell_type": "code",
      "execution_count": 32,
      "metadata": {
        "colab": {
          "base_uri": "https://localhost:8080/"
        },
        "id": "Swe4PX5aKmDv",
        "outputId": "a3a3d093-6489-4d4f-fcd4-93d1210b96c0"
      },
      "outputs": [
        {
          "name": "stdout",
          "output_type": "stream",
          "text": [
            "Mean |0><0|:0.6607090909090908,\n",
            "Variance: 0.0060840099173553736\n",
            "\n",
            "Mean |0><1|:0.49900000000000005,\n",
            "Variance: 0.032155090909090904\n",
            "\n",
            "Mean |1><0|:0.5002545454545455,\n",
            "Variance: 0.03194162975206612\n",
            "\n",
            "Mean |1><1|:0.33845454545454545,\n",
            "Variance: 0.006102429752066116\n",
            "\n"
          ]
        }
      ],
      "source": [
        "rhos = [\n",
        "    np.array([[.666,.666],[.333,.333]]),\n",
        "    np.array([[.7058,.291],[.7058,.291]]),\n",
        "    np.array([[.7,.7],[.3,.3]]),\n",
        "    np.array([[.5,.5],[.5,.5]]),\n",
        "    np.array([[.666,.333],[.666,.333]]),\n",
        "    np.array([[.571,.428],[.571,.428]]),\n",
        "    np.array([[.713,.713],[.287,.287]]),\n",
        "    np.array([[.666,.333],[.666,.333]]),\n",
        "    np.array([[.571,.571],[.429,.428]]),\n",
        "    np.array([[.777,.222],[.777,.222]]),\n",
        "    np.array([[.732,.732],[.268,.268]])\n",
        "]\n",
        "\n",
        "shadow_cont_array_00 = []\n",
        "shadow_cont_array_01 = []\n",
        "shadow_cont_array_10= []\n",
        "shadow_cont_array_11 = []\n",
        "\n",
        "for i,j in rhos:\n",
        "  shadow_cont_array_00.append(i[0])\n",
        "  shadow_cont_array_01.append(i[1])\n",
        "  shadow_cont_array_10.append(j[0])\n",
        "  shadow_cont_array_11.append(j[1])\n",
        "\n",
        "dic = {}\n",
        "\n",
        "for k,elt in enumerate(pulse_outputs):\n",
        "  dic[k] = np.array(elt)\n",
        "\n",
        "print(f'Mean |0><0|:{np.mean(shadow_cont_array_00)},\\nVariance: {np.var(shadow_cont_array_00)}\\n')\n",
        "print(f'Mean |0><1|:{np.mean(shadow_cont_array_01)},\\nVariance: {np.var(shadow_cont_array_01)}\\n')\n",
        "print(f'Mean |1><0|:{np.mean(shadow_cont_array_10)},\\nVariance: {np.var(shadow_cont_array_10)}\\n')\n",
        "print(f'Mean |1><1|:{np.mean(shadow_cont_array_11)},\\nVariance: {np.var(shadow_cont_array_11)}\\n')"
      ]
    },
    {
      "cell_type": "markdown",
      "metadata": {
        "id": "QeqZ6mdiH3sm"
      },
      "source": [
        "**Expectation Value Errors**"
      ]
    },
    {
      "cell_type": "code",
      "execution_count": 33,
      "metadata": {
        "colab": {
          "base_uri": "https://localhost:8080/"
        },
        "id": "MKXw6luRH64T",
        "outputId": "d268a98f-33b6-4778-fd0e-49b7b46129b4"
      },
      "outputs": [
        {
          "name": "stdout",
          "output_type": "stream",
          "text": [
            "[[0.46, 0j, 0.48], [0.99, -0.010000000000000009j, 0.32], [0.95, 0j, 0.35000000000000003]]\n",
            "[0.9, 0j, 0.43999999999999995]\n"
          ]
        }
      ],
      "source": [
        "exact_rho = np.array([[.72, .45],[.45,.28]])\n",
        "quED_complete_tom_avg = np.array([[.74, .23],[.23,.26]])\n",
        "quED_shadow_tom_avg = np.array([[.66,.49],[.50,.34]])\n",
        "ideal_dig_twin_avg = np.array([[.675, .475],[.475,.325]])\n",
        "\n",
        "X = np.array([[0,1],[1,0]])\n",
        "Y = np.array([[0,-1j],[1j,0]])\n",
        "Z = np.array([[1,0],[0,-1]])\n",
        "\n",
        "exp_vals = []\n",
        "exact_vals = []\n",
        "for rho in [exact_rho, quED_complete_tom_avg, quED_shadow_tom_avg, ideal_dig_twin_avg]:\n",
        "  out = []\n",
        "  for pauli in [X,Y,Z]:\n",
        "    out.append(np.trace(rho@pauli))\n",
        "  if np.allclose(rho,exact_rho):\n",
        "    exact_vals = out\n",
        "  else:\n",
        "    exp_vals.append(out)\n",
        "\n",
        "print(exp_vals)\n",
        "print(exact_vals)"
      ]
    },
    {
      "cell_type": "code",
      "execution_count": 34,
      "metadata": {
        "colab": {
          "base_uri": "https://localhost:8080/",
          "height": 472
        },
        "id": "rQBLQSyGJuWp",
        "outputId": "59569e7b-47da-4152-c6c2-d2d0d03ce392"
      },
      "outputs": [
        {
          "data": {
            "image/png": "[encoded data removed]",
            "text/plain": [
              "<Figure size 640x480 with 1 Axes>"
            ]
          },
          "metadata": {},
          "output_type": "display_data"
        }
      ],
      "source": [
        "import numpy as np\n",
        "import matplotlib.pyplot as plt\n",
        "\n",
        "# Assuming exp_vals and exact_vals are defined\n",
        "x_error, y_error, z_error = [], [], []\n",
        "\n",
        "# Calculate errors\n",
        "for exp_val in exp_vals:\n",
        "    for m, n in enumerate(exp_val):\n",
        "        error = np.abs(exact_vals[m] - n)\n",
        "        if m == 0:\n",
        "            x_error.append(error)\n",
        "        elif m == 1:\n",
        "            y_error.append(error)\n",
        "        else:\n",
        "            z_error.append(error)\n",
        "\n",
        "# Data preparation\n",
        "data = [x_error, y_error, z_error]\n",
        "labels = ['Full Tomography', 'Classical Shadow', 'Digital Twin']\n",
        "error_types = ['X', 'Y', 'Z']\n",
        "\n",
        "# Plotting\n",
        "fig, ax = plt.subplots()\n",
        "bar_width = 0.25\n",
        "index = np.arange(len(error_types))\n",
        "\n",
        "# Create bars for each method under each error type\n",
        "for i, label in enumerate(labels):\n",
        "    ax.bar(index + i * bar_width, [d[i] for d in data], bar_width, label=label)\n",
        "\n",
        "# Add labels, legend, and title\n",
        "ax.set_xlabel('Observable')\n",
        "ax.set_ylabel('Error Magnitude')\n",
        "ax.set_title('Error of Predicted Pauli Observable Expectation Values')\n",
        "ax.set_xticks(index + bar_width)\n",
        "ax.set_xticklabels(error_types)\n",
        "ax.legend()\n",
        "\n",
        "# Show the plot\n",
        "plt.show()\n"
      ]
    }
  ],
  "metadata": {
    "colab": {
      "provenance": []
    },
    "kernelspec": {
      "display_name": "Python 3",
      "name": "python3"
    },
    "language_info": {
      "name": "python"
    }
  },
  "nbformat": 4,
  "nbformat_minor": 0
}
